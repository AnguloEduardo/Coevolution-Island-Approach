{
 "cells": [
  {
   "cell_type": "code",
   "execution_count": 102,
   "metadata": {
    "collapsed": true,
    "pycharm": {
     "name": "#%%\n"
    }
   },
   "outputs": [],
   "source": [
    "import seaborn as sns\n",
    "import matplotlib.pyplot as plt\n",
    "import pandas as pd\n",
    "from matplotlib.patches import Arc"
   ]
  },
  {
   "cell_type": "code",
   "execution_count": 103,
   "outputs": [],
   "source": [
    "names = list(range(0, 271))"
   ],
   "metadata": {
    "collapsed": false,
    "pycharm": {
     "name": "#%%\n"
    }
   }
  },
  {
   "cell_type": "code",
   "execution_count": 130,
   "outputs": [],
   "source": [
    "data = pd.read_csv(\"results_DS_0.csv\",  header=None, index_col=None)\n",
    "data.columns = names\n",
    "data = data.drop(270, axis=1)"
   ],
   "metadata": {
    "collapsed": false,
    "pycharm": {
     "name": "#%%\n"
    }
   }
  },
  {
   "cell_type": "code",
   "execution_count": 131,
   "outputs": [
    {
     "data": {
      "text/plain": "   0    1    2    3    4    5    6    7    8    9    ...  260  261  262  263  \\\n0  119  128  119  152  118  130  118  128   97  110  ...  152  152  152  152   \n1   71  110  128  128   65   92  106  128   81   99  ...  128  124  128  128   \n2   87  105  106  118   85  126  126  118   75   97  ...  129  118  129  129   \n3  126  114  148  179  108  148  179  171  109  135  ...  179  179  179  164   \n4  120  173  151  148   97  120  173  173  115  114  ...  173  152  152  173   \n\n   264  265  266  267  268  269  \n0  152  141  152  128  133  130  \n1  128  128  128  128  128  128  \n2  118  129  110  129  116  118  \n3  179  179  179  179  164  179  \n4  173  148  148  173  173  173  \n\n[5 rows x 270 columns]",
      "text/html": "<div>\n<style scoped>\n    .dataframe tbody tr th:only-of-type {\n        vertical-align: middle;\n    }\n\n    .dataframe tbody tr th {\n        vertical-align: top;\n    }\n\n    .dataframe thead th {\n        text-align: right;\n    }\n</style>\n<table border=\"1\" class=\"dataframe\">\n  <thead>\n    <tr style=\"text-align: right;\">\n      <th></th>\n      <th>0</th>\n      <th>1</th>\n      <th>2</th>\n      <th>3</th>\n      <th>4</th>\n      <th>5</th>\n      <th>6</th>\n      <th>7</th>\n      <th>8</th>\n      <th>9</th>\n      <th>...</th>\n      <th>260</th>\n      <th>261</th>\n      <th>262</th>\n      <th>263</th>\n      <th>264</th>\n      <th>265</th>\n      <th>266</th>\n      <th>267</th>\n      <th>268</th>\n      <th>269</th>\n    </tr>\n  </thead>\n  <tbody>\n    <tr>\n      <th>0</th>\n      <td>119</td>\n      <td>128</td>\n      <td>119</td>\n      <td>152</td>\n      <td>118</td>\n      <td>130</td>\n      <td>118</td>\n      <td>128</td>\n      <td>97</td>\n      <td>110</td>\n      <td>...</td>\n      <td>152</td>\n      <td>152</td>\n      <td>152</td>\n      <td>152</td>\n      <td>152</td>\n      <td>141</td>\n      <td>152</td>\n      <td>128</td>\n      <td>133</td>\n      <td>130</td>\n    </tr>\n    <tr>\n      <th>1</th>\n      <td>71</td>\n      <td>110</td>\n      <td>128</td>\n      <td>128</td>\n      <td>65</td>\n      <td>92</td>\n      <td>106</td>\n      <td>128</td>\n      <td>81</td>\n      <td>99</td>\n      <td>...</td>\n      <td>128</td>\n      <td>124</td>\n      <td>128</td>\n      <td>128</td>\n      <td>128</td>\n      <td>128</td>\n      <td>128</td>\n      <td>128</td>\n      <td>128</td>\n      <td>128</td>\n    </tr>\n    <tr>\n      <th>2</th>\n      <td>87</td>\n      <td>105</td>\n      <td>106</td>\n      <td>118</td>\n      <td>85</td>\n      <td>126</td>\n      <td>126</td>\n      <td>118</td>\n      <td>75</td>\n      <td>97</td>\n      <td>...</td>\n      <td>129</td>\n      <td>118</td>\n      <td>129</td>\n      <td>129</td>\n      <td>118</td>\n      <td>129</td>\n      <td>110</td>\n      <td>129</td>\n      <td>116</td>\n      <td>118</td>\n    </tr>\n    <tr>\n      <th>3</th>\n      <td>126</td>\n      <td>114</td>\n      <td>148</td>\n      <td>179</td>\n      <td>108</td>\n      <td>148</td>\n      <td>179</td>\n      <td>171</td>\n      <td>109</td>\n      <td>135</td>\n      <td>...</td>\n      <td>179</td>\n      <td>179</td>\n      <td>179</td>\n      <td>164</td>\n      <td>179</td>\n      <td>179</td>\n      <td>179</td>\n      <td>179</td>\n      <td>164</td>\n      <td>179</td>\n    </tr>\n    <tr>\n      <th>4</th>\n      <td>120</td>\n      <td>173</td>\n      <td>151</td>\n      <td>148</td>\n      <td>97</td>\n      <td>120</td>\n      <td>173</td>\n      <td>173</td>\n      <td>115</td>\n      <td>114</td>\n      <td>...</td>\n      <td>173</td>\n      <td>152</td>\n      <td>152</td>\n      <td>173</td>\n      <td>173</td>\n      <td>148</td>\n      <td>148</td>\n      <td>173</td>\n      <td>173</td>\n      <td>173</td>\n    </tr>\n  </tbody>\n</table>\n<p>5 rows × 270 columns</p>\n</div>"
     },
     "execution_count": 131,
     "metadata": {},
     "output_type": "execute_result"
    }
   ],
   "source": [
    "data.head()"
   ],
   "metadata": {
    "collapsed": false,
    "pycharm": {
     "name": "#%%\n"
    }
   }
  },
  {
   "cell_type": "code",
   "execution_count": 106,
   "outputs": [],
   "source": [
    "def draw_curly_bracket(ax, left, right, y, text, bracket_length=0.05, fontsize=14, text_offset=(0, -10)):\n",
    "    # Calculate bracket length in data coordinates\n",
    "    length_data = (ax.get_xlim()[1] - ax.get_xlim()[0]) * bracket_length\n",
    "\n",
    "    # Center and radius for arc\n",
    "    center_x = (left + right) / 2\n",
    "    radius = (right - left) / 2\n",
    "\n",
    "    # Draw arc (simulating curly bracket)\n",
    "    arc = Arc([center_x, y], radius*2, length_data, theta1=0, theta2=180, edgecolor='black')\n",
    "    ax.add_patch(arc)\n",
    "\n",
    "    # Add the group label\n",
    "    ax.annotate(text, xy=(center_x, y), xycoords='data', ha=\"center\", va=\"bottom\",\n",
    "                fontsize=fontsize, bbox=dict(facecolor=\"white\", edgecolor=\"none\", pad=0),\n",
    "                xytext=text_offset, textcoords=\"offset points\")"
   ],
   "metadata": {
    "collapsed": false,
    "pycharm": {
     "name": "#%%\n"
    }
   }
  },
  {
   "cell_type": "code",
   "execution_count": 107,
   "outputs": [],
   "source": [
    "def plot_boxplot(df, name):\n",
    "    # Transpose the DataFrame\n",
    "    transposed_df = df.T\n",
    "\n",
    "    # Melt the transposed DataFrame into long format\n",
    "    box_names = {0:'Island 1', 1:'Island 2', 2:'Island 3', 3:'Island 4', 4:'10%', 5:'20%', 6:'40%', 7:'80%', 8:'100%'}\n",
    "    melted_df = pd.melt(transposed_df.reset_index(), id_vars=\"index\", var_name=\"Row\", value_name=\"Value\")\n",
    "    melted_df['Row'] = melted_df['Row'].replace(box_names)\n",
    "\n",
    "    # Plot the boxplots using Seaborn\n",
    "    ax = sns.boxplot(x=\"Row\", y=\"Value\", data=melted_df)\n",
    "    plt.title(\"Results for KP instance \" + str(instance_name))\n",
    "    plt.xlabel(\"\")\n",
    "    plt.ylabel(\"Profit\")\n",
    "    plt.xticks(rotation=45)\n",
    "\n",
    "    # Add group labels for subsets of boxplots\n",
    "    group_labels = [(\"No migration probability\", 0, 4), (\"Migration Probability\", 4, 9)]\n",
    "    for label, start, end in group_labels:\n",
    "        plt.text((start + end - 1) / 2, ax.get_ylim()[0] - 0.2 * (ax.get_ylim()[1] - ax.get_ylim()[0]), label, ha=\"center\", va=\"top\")\n",
    "\n",
    "    # Draw curly brackets for group labels\n",
    "    draw_curly_bracket(ax, 0, 4, ax.get_ylim()[0] - 0.25 * (ax.get_ylim()[1] - ax.get_ylim()[0]), \"No migration probability\")\n",
    "    draw_curly_bracket(ax, 4, 9, ax.get_ylim()[0] - 0.25 * (ax.get_ylim()[1] - ax.get_ylim()[0]), \"Migration Probability\")\n",
    "\n",
    "    # Add a horizontal line indicating the maximum value\n",
    "    max_value = melted_df['Value'].max()\n",
    "    plt.axhline(y=max_value, color='r', linestyle='--', label=f\"Optimum: {max_value}\")\n",
    "\n",
    "    # Add a legend to show the label for the maximum value line\n",
    "    plt.legend()\n",
    "\n",
    "    # Automatically adjust spacing between elements in the plot\n",
    "    plt.tight_layout()\n",
    "\n",
    "    # Save the figure to your computer\n",
    "    plt.savefig('Graphs DS\\\\0\\\\'+ str(name) + '_0.png', dpi=300, bbox_inches='tight')\n",
    "    plt.clf()"
   ],
   "metadata": {
    "collapsed": false,
    "pycharm": {
     "name": "#%%\n"
    }
   }
  },
  {
   "cell_type": "code",
   "execution_count": 98,
   "outputs": [
    {
     "data": {
      "text/plain": "<Figure size 640x480 with 0 Axes>"
     },
     "metadata": {},
     "output_type": "display_data"
    }
   ],
   "source": [
    "instance_type = ['A', 'B', 'C', 'D', 'E']\n",
    "instance_num = 0\n",
    "for i in range(1, 6):\n",
    "    instance_name = 'GA-' + str(instance_type[i-1]) + '_50_00' + str(instance_num)\n",
    "    instance = data.iloc[(i-1) * 10 + instance_num]\n",
    "    # Convert the DataFrame to a NumPy array\n",
    "    data_np = instance.to_numpy()\n",
    "\n",
    "    # Reshape the NumPy array to the desired shape (9 rows x 30 columns)\n",
    "    reshaped_data = data_np.reshape(9, 30)\n",
    "\n",
    "    # Convert the reshaped NumPy array back to a DataFrame\n",
    "    instance_df = pd.DataFrame(reshaped_data)\n",
    "    plot_boxplot(instance_df, instance_name)"
   ],
   "metadata": {
    "collapsed": false,
    "pycharm": {
     "name": "#%%\n"
    }
   }
  },
  {
   "cell_type": "code",
   "execution_count": 132,
   "outputs": [],
   "source": [
    "def plot_boxplot_0(df, name):\n",
    "    # Transpose the DataFrame\n",
    "    transposed_df = df.T\n",
    "\n",
    "    # Melt the transposed DataFrame into long format\n",
    "    box_names = {0:'Island 1', 1:'Island 2', 2:'Island 3', 3:'Island 4'}\n",
    "    melted_df = pd.melt(transposed_df.reset_index(), id_vars=\"index\", var_name=\"Row\", value_name=\"Value\")\n",
    "    melted_df['Row'] = melted_df['Row'].replace(box_names)\n",
    "\n",
    "    # Plot the boxplots using Seaborn\n",
    "    ax = sns.boxplot(x=\"Row\", y=\"Value\", data=melted_df)\n",
    "    plt.title(\"Results for KP instance \" + str(instance_name))\n",
    "    plt.xlabel(\"\")\n",
    "    plt.ylabel(\"Profit\")\n",
    "    plt.xticks(rotation=45)\n",
    "\n",
    "    # Add a horizontal line indicating the maximum value\n",
    "    max_value = melted_df['Value'].max()\n",
    "    plt.axhline(y=max_value, color='r', linestyle='--', label=f\"Optimum: {max_value}\")\n",
    "\n",
    "    # Add a legend to show the label for the maximum value line\n",
    "    plt.legend()\n",
    "\n",
    "    # Automatically adjust spacing between elements in the plot\n",
    "    plt.tight_layout()\n",
    "\n",
    "    # Save the figure to your computer\n",
    "    plt.savefig('Graphs DS\\\\0\\\\'+ str(name) + '_0.png', dpi=300, bbox_inches='tight')\n",
    "    plt.clf()"
   ],
   "metadata": {
    "collapsed": false,
    "pycharm": {
     "name": "#%%\n"
    }
   }
  },
  {
   "cell_type": "code",
   "execution_count": 133,
   "outputs": [
    {
     "data": {
      "text/plain": "<Figure size 640x480 with 0 Axes>"
     },
     "metadata": {},
     "output_type": "display_data"
    }
   ],
   "source": [
    "instance_type = ['A', 'B', 'C', 'D', 'E']\n",
    "instance_num = 0\n",
    "for i in range(1, 6):\n",
    "    instance_name = 'GA-' + str(instance_type[i-1]) + '_50_00' + str(instance_num)\n",
    "    instance = data.iloc[(i-1) * 10 + instance_num]\n",
    "    # Convert the DataFrame to a NumPy array\n",
    "    data_np = instance.to_numpy()\n",
    "\n",
    "    # Reshape the NumPy array to the desired shape (9 rows x 30 columns)\n",
    "    reshaped_data = data_np.reshape(9, 30)\n",
    "\n",
    "    # Convert the reshaped NumPy array back to a DataFrame\n",
    "    instance_df = pd.DataFrame(reshaped_data)\n",
    "    instance_df = instance_df.drop([4,5,6,7,8], axis=0)\n",
    "    plot_boxplot_0(instance_df, instance_name)"
   ],
   "metadata": {
    "collapsed": false,
    "pycharm": {
     "name": "#%%\n"
    }
   }
  },
  {
   "cell_type": "code",
   "execution_count": null,
   "outputs": [],
   "source": [],
   "metadata": {
    "collapsed": false,
    "pycharm": {
     "name": "#%%\n"
    }
   }
  }
 ],
 "metadata": {
  "kernelspec": {
   "display_name": "Python 3",
   "language": "python",
   "name": "python3"
  },
  "language_info": {
   "codemirror_mode": {
    "name": "ipython",
    "version": 2
   },
   "file_extension": ".py",
   "mimetype": "text/x-python",
   "name": "python",
   "nbconvert_exporter": "python",
   "pygments_lexer": "ipython2",
   "version": "2.7.6"
  }
 },
 "nbformat": 4,
 "nbformat_minor": 0
}