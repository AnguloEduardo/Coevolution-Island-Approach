{
 "cells": [
  {
   "cell_type": "code",
   "execution_count": 10,
   "metadata": {
    "collapsed": true,
    "pycharm": {
     "name": "#%%\n"
    }
   },
   "outputs": [],
   "source": [
    "import seaborn as sns\n",
    "import matplotlib.pyplot as plt\n",
    "import pandas as pd\n",
    "import numpy as np"
   ]
  },
  {
   "cell_type": "code",
   "execution_count": 37,
   "outputs": [],
   "source": [
    "names = list(range(0, 275))"
   ],
   "metadata": {
    "collapsed": false,
    "pycharm": {
     "name": "#%%\n"
    }
   }
  },
  {
   "cell_type": "code",
   "execution_count": 38,
   "outputs": [],
   "source": [
    "data = pd.read_csv(\"results_DS_0.csv\",  header=None, index_col=None)\n",
    "data.columns = names\n",
    "#data = data.drop(270, axis=1)"
   ],
   "metadata": {
    "collapsed": false,
    "pycharm": {
     "name": "#%%\n"
    }
   }
  },
  {
   "cell_type": "code",
   "execution_count": 32,
   "outputs": [
    {
     "data": {
      "text/plain": "    0    1    2    3    4    5    6    7    8    9   ...   25   26   27   28  \\\n0  119  128  119  152  118  130  118  128   97  110  ...  106  117  146  103   \n1  130  152   95   90  118  152  113  130  118  152  ...  152   73  126  101   \n2   76   90  133  152   90  123  130  152   98  126  ...  126  130  152   82   \n3  123  130   87  117  123  152   94  102  117  125  ...  138  115  130  113   \n4  152  141  152  152  152  152  152  152  152  152  ...  123  152  152  152   \n\n    29   30  31   32   33  34  \n0  118  152  90  129  129  28  \n1  152  152  90  129  129  28  \n2   93  152  90  129  129  28  \n3  146  152  90  129  129  28  \n4  152  152  90  129  129  28  \n\n[5 rows x 35 columns]",
      "text/html": "<div>\n<style scoped>\n    .dataframe tbody tr th:only-of-type {\n        vertical-align: middle;\n    }\n\n    .dataframe tbody tr th {\n        vertical-align: top;\n    }\n\n    .dataframe thead th {\n        text-align: right;\n    }\n</style>\n<table border=\"1\" class=\"dataframe\">\n  <thead>\n    <tr style=\"text-align: right;\">\n      <th></th>\n      <th>0</th>\n      <th>1</th>\n      <th>2</th>\n      <th>3</th>\n      <th>4</th>\n      <th>5</th>\n      <th>6</th>\n      <th>7</th>\n      <th>8</th>\n      <th>9</th>\n      <th>...</th>\n      <th>25</th>\n      <th>26</th>\n      <th>27</th>\n      <th>28</th>\n      <th>29</th>\n      <th>30</th>\n      <th>31</th>\n      <th>32</th>\n      <th>33</th>\n      <th>34</th>\n    </tr>\n  </thead>\n  <tbody>\n    <tr>\n      <th>0</th>\n      <td>119</td>\n      <td>128</td>\n      <td>119</td>\n      <td>152</td>\n      <td>118</td>\n      <td>130</td>\n      <td>118</td>\n      <td>128</td>\n      <td>97</td>\n      <td>110</td>\n      <td>...</td>\n      <td>106</td>\n      <td>117</td>\n      <td>146</td>\n      <td>103</td>\n      <td>118</td>\n      <td>152</td>\n      <td>90</td>\n      <td>129</td>\n      <td>129</td>\n      <td>28</td>\n    </tr>\n    <tr>\n      <th>1</th>\n      <td>130</td>\n      <td>152</td>\n      <td>95</td>\n      <td>90</td>\n      <td>118</td>\n      <td>152</td>\n      <td>113</td>\n      <td>130</td>\n      <td>118</td>\n      <td>152</td>\n      <td>...</td>\n      <td>152</td>\n      <td>73</td>\n      <td>126</td>\n      <td>101</td>\n      <td>152</td>\n      <td>152</td>\n      <td>90</td>\n      <td>129</td>\n      <td>129</td>\n      <td>28</td>\n    </tr>\n    <tr>\n      <th>2</th>\n      <td>76</td>\n      <td>90</td>\n      <td>133</td>\n      <td>152</td>\n      <td>90</td>\n      <td>123</td>\n      <td>130</td>\n      <td>152</td>\n      <td>98</td>\n      <td>126</td>\n      <td>...</td>\n      <td>126</td>\n      <td>130</td>\n      <td>152</td>\n      <td>82</td>\n      <td>93</td>\n      <td>152</td>\n      <td>90</td>\n      <td>129</td>\n      <td>129</td>\n      <td>28</td>\n    </tr>\n    <tr>\n      <th>3</th>\n      <td>123</td>\n      <td>130</td>\n      <td>87</td>\n      <td>117</td>\n      <td>123</td>\n      <td>152</td>\n      <td>94</td>\n      <td>102</td>\n      <td>117</td>\n      <td>125</td>\n      <td>...</td>\n      <td>138</td>\n      <td>115</td>\n      <td>130</td>\n      <td>113</td>\n      <td>146</td>\n      <td>152</td>\n      <td>90</td>\n      <td>129</td>\n      <td>129</td>\n      <td>28</td>\n    </tr>\n    <tr>\n      <th>4</th>\n      <td>152</td>\n      <td>141</td>\n      <td>152</td>\n      <td>152</td>\n      <td>152</td>\n      <td>152</td>\n      <td>152</td>\n      <td>152</td>\n      <td>152</td>\n      <td>152</td>\n      <td>...</td>\n      <td>123</td>\n      <td>152</td>\n      <td>152</td>\n      <td>152</td>\n      <td>152</td>\n      <td>152</td>\n      <td>90</td>\n      <td>129</td>\n      <td>129</td>\n      <td>28</td>\n    </tr>\n  </tbody>\n</table>\n<p>5 rows × 35 columns</p>\n</div>"
     },
     "execution_count": 32,
     "metadata": {},
     "output_type": "execute_result"
    }
   ],
   "source": [
    "names = list(range(0, 35))\n",
    "data.columns = names\n",
    "data.head()"
   ],
   "metadata": {
    "collapsed": false,
    "pycharm": {
     "name": "#%%\n"
    }
   }
  },
  {
   "cell_type": "code",
   "execution_count": 74,
   "outputs": [],
   "source": [
    "def plot_boxplot(df, name):\n",
    "    # Transpose the DataFrame\n",
    "    transposed_df = df.T\n",
    "\n",
    "    # Melt the transposed DataFrame into long format\n",
    "    box_names = {0:'Island 1', 1:'Island 2', 2:'Island 3', 3:'Island 4', 4:'10%', 5:'20%', 6:'40%', 7:'80%', 8:'100%', 9:'DEF', 10:'MAXP', 11:'MAXPW', 12:'MINW', 13:'MARK'}\n",
    "    melted_df = pd.melt(transposed_df.reset_index(), id_vars=\"index\", var_name=\"Row\", value_name=\"Value\")\n",
    "    melted_df['Row'] = melted_df['Row'].replace(box_names)\n",
    "\n",
    "    # Plot the boxplots using Seaborn\n",
    "    ax = sns.boxplot(x=\"Row\", y=\"Value\", data=melted_df)\n",
    "    plt.title(\"Results for KP instance \" + str(instance_name))\n",
    "    plt.xlabel(\"\")\n",
    "    plt.ylabel(\"Profit\")\n",
    "    plt.xticks(rotation=45)\n",
    "\n",
    "    # Add group labels for subsets of boxplots\n",
    "    group_labels = [(\"No migration probability\", 0, 4), (\"Migration Probability\", 4, 9), (\"Heuristics\", 10, 13)]\n",
    "    for label, start, end in group_labels:\n",
    "        plt.text((start + end - 1) / 2, ax.get_ylim()[0] - 0.2 * (ax.get_ylim()[1] - ax.get_ylim()[0]), label, ha=\"center\", va=\"top\")\n",
    "\n",
    "    # Add a horizontal line indicating the maximum value\n",
    "    max_value = melted_df['Value'].max()\n",
    "    plt.axhline(y=max_value, color='r', linestyle='--', label=f\"Optimum: {max_value}\")\n",
    "\n",
    "    # Add a legend to show the label for the maximum value line\n",
    "    plt.legend()\n",
    "\n",
    "    # Automatically adjust spacing between elements in the plot\n",
    "    plt.tight_layout()\n",
    "\n",
    "    # Save the figure to your computer\n",
    "    plt.savefig('Graphs DS\\\\'+ str(name) + '.png', dpi=300, bbox_inches='tight')\n",
    "    plt.clf()"
   ],
   "metadata": {
    "collapsed": false,
    "pycharm": {
     "name": "#%%\n"
    }
   }
  },
  {
   "cell_type": "code",
   "execution_count": 98,
   "outputs": [
    {
     "data": {
      "text/plain": "<Figure size 640x480 with 0 Axes>"
     },
     "metadata": {},
     "output_type": "display_data"
    }
   ],
   "source": [
    "instance_type = ['A', 'B', 'C', 'D', 'E']\n",
    "instance_num = 0\n",
    "for i in range(1, 6):\n",
    "    instance_name = 'GA-' + str(instance_type[i-1]) + '_50_00' + str(instance_num)\n",
    "    instance = data.iloc[(i-1) * 10 + instance_num]\n",
    "    # Convert the DataFrame to a NumPy array\n",
    "    data_np = instance.to_numpy()\n",
    "\n",
    "    # Reshape the NumPy array to the desired shape (9 rows x 30 columns)\n",
    "    reshaped_data = data_np.reshape(14, 30)\n",
    "\n",
    "    # Convert the reshaped NumPy array back to a DataFrame\n",
    "    instance_df = pd.DataFrame(reshaped_data)\n",
    "    plot_boxplot(instance_df, instance_name)"
   ],
   "metadata": {
    "collapsed": false,
    "pycharm": {
     "name": "#%%\n"
    }
   }
  },
  {
   "cell_type": "code",
   "execution_count": 132,
   "outputs": [],
   "source": [
    "def plot_boxplot_0(df, name):\n",
    "    # Transpose the DataFrame\n",
    "    transposed_df = df.T\n",
    "\n",
    "    # Melt the transposed DataFrame into long format\n",
    "    box_names = {0:'Island 1', 1:'Island 2', 2:'Island 3', 3:'Island 4'}\n",
    "    melted_df = pd.melt(transposed_df.reset_index(), id_vars=\"index\", var_name=\"Row\", value_name=\"Value\")\n",
    "    melted_df['Row'] = melted_df['Row'].replace(box_names)\n",
    "\n",
    "    # Plot the boxplots using Seaborn\n",
    "    sns.boxplot(x=\"Row\", y=\"Value\", data=melted_df)\n",
    "    plt.title(\"Results for KP instance \" + str(instance_name))\n",
    "    plt.xlabel(\"\")\n",
    "    plt.ylabel(\"Profit\")\n",
    "    plt.xticks(rotation=45)\n",
    "\n",
    "    # Add a horizontal line indicating the maximum value\n",
    "    max_value = melted_df['Value'].max()\n",
    "    plt.axhline(y=max_value, color='r', linestyle='--', label=f\"Optimum: {max_value}\")\n",
    "\n",
    "    # Add a legend to show the label for the maximum value line\n",
    "    plt.legend()\n",
    "\n",
    "    # Automatically adjust spacing between elements in the plot\n",
    "    plt.tight_layout()\n",
    "\n",
    "    # Save the figure to your computer\n",
    "    plt.savefig('Graphs DS\\\\0\\\\'+ str(name) + '_0.png', dpi=300, bbox_inches='tight')\n",
    "    plt.clf()"
   ],
   "metadata": {
    "collapsed": false,
    "pycharm": {
     "name": "#%%\n"
    }
   }
  },
  {
   "cell_type": "code",
   "execution_count": 133,
   "outputs": [
    {
     "data": {
      "text/plain": "<Figure size 640x480 with 0 Axes>"
     },
     "metadata": {},
     "output_type": "display_data"
    }
   ],
   "source": [
    "instance_type = ['A', 'B', 'C', 'D', 'E']\n",
    "instance_num = 0\n",
    "for i in range(1, 6):\n",
    "    instance_name = 'GA-' + str(instance_type[i-1]) + '_50_00' + str(instance_num)\n",
    "    instance = data.iloc[(i-1) * 10 + instance_num]\n",
    "    # Convert the DataFrame to a NumPy array\n",
    "    data_np = instance.to_numpy()\n",
    "\n",
    "    # Reshape the NumPy array to the desired shape (9 rows x 30 columns)\n",
    "    reshaped_data = data_np.reshape(9, 30)\n",
    "\n",
    "    # Convert the reshaped NumPy array back to a DataFrame\n",
    "    instance_df = pd.DataFrame(reshaped_data)\n",
    "    instance_df = instance_df.drop([4,5,6,7,8], axis=0)\n",
    "    plot_boxplot_0(instance_df, instance_name)"
   ],
   "metadata": {
    "collapsed": false,
    "pycharm": {
     "name": "#%%\n"
    }
   }
  },
  {
   "cell_type": "code",
   "execution_count": 45,
   "outputs": [
    {
     "data": {
      "text/plain": "      0       1       2       3      4       5       6       7       8   \\\n0  51145  108259  594626  524520  51568  594626  594626  594626  594626   \n1   6365   10896   58283   50668   6559   58283   58283   58283   58283   \n2   2964    3555    6292    5153   2694    6292    6292    6292    6292   \n3  10862   24610  117814  104127  11658  117814  117814  117814  117814   \n4   3271    4560   10463    9027   2556   10463   10463   10463   10463   \n\n       9       10      11  \n0  594626  594626  594669  \n1   58283   58283   58305  \n2    6292    6292    6384  \n3  117814  117814  117872  \n4   10463   10463   10463  ",
      "text/html": "<div>\n<style scoped>\n    .dataframe tbody tr th:only-of-type {\n        vertical-align: middle;\n    }\n\n    .dataframe tbody tr th {\n        vertical-align: top;\n    }\n\n    .dataframe thead th {\n        text-align: right;\n    }\n</style>\n<table border=\"1\" class=\"dataframe\">\n  <thead>\n    <tr style=\"text-align: right;\">\n      <th></th>\n      <th>0</th>\n      <th>1</th>\n      <th>2</th>\n      <th>3</th>\n      <th>4</th>\n      <th>5</th>\n      <th>6</th>\n      <th>7</th>\n      <th>8</th>\n      <th>9</th>\n      <th>10</th>\n      <th>11</th>\n    </tr>\n  </thead>\n  <tbody>\n    <tr>\n      <th>0</th>\n      <td>51145</td>\n      <td>108259</td>\n      <td>594626</td>\n      <td>524520</td>\n      <td>51568</td>\n      <td>594626</td>\n      <td>594626</td>\n      <td>594626</td>\n      <td>594626</td>\n      <td>594626</td>\n      <td>594626</td>\n      <td>594669</td>\n    </tr>\n    <tr>\n      <th>1</th>\n      <td>6365</td>\n      <td>10896</td>\n      <td>58283</td>\n      <td>50668</td>\n      <td>6559</td>\n      <td>58283</td>\n      <td>58283</td>\n      <td>58283</td>\n      <td>58283</td>\n      <td>58283</td>\n      <td>58283</td>\n      <td>58305</td>\n    </tr>\n    <tr>\n      <th>2</th>\n      <td>2964</td>\n      <td>3555</td>\n      <td>6292</td>\n      <td>5153</td>\n      <td>2694</td>\n      <td>6292</td>\n      <td>6292</td>\n      <td>6292</td>\n      <td>6292</td>\n      <td>6292</td>\n      <td>6292</td>\n      <td>6384</td>\n    </tr>\n    <tr>\n      <th>3</th>\n      <td>10862</td>\n      <td>24610</td>\n      <td>117814</td>\n      <td>104127</td>\n      <td>11658</td>\n      <td>117814</td>\n      <td>117814</td>\n      <td>117814</td>\n      <td>117814</td>\n      <td>117814</td>\n      <td>117814</td>\n      <td>117872</td>\n    </tr>\n    <tr>\n      <th>4</th>\n      <td>3271</td>\n      <td>4560</td>\n      <td>10463</td>\n      <td>9027</td>\n      <td>2556</td>\n      <td>10463</td>\n      <td>10463</td>\n      <td>10463</td>\n      <td>10463</td>\n      <td>10463</td>\n      <td>10463</td>\n      <td>10463</td>\n    </tr>\n  </tbody>\n</table>\n</div>"
     },
     "execution_count": 45,
     "metadata": {},
     "output_type": "execute_result"
    }
   ],
   "source": [
    "data = pd.read_csv(\"ResultsSetC.csv\",  header=None, index_col=None)\n",
    "names_hh = list(range(0, 12))\n",
    "data.columns = names_hh\n",
    "data.head()"
   ],
   "metadata": {
    "collapsed": false,
    "pycharm": {
     "name": "#%%\n"
    }
   }
  },
  {
   "cell_type": "code",
   "execution_count": 46,
   "outputs": [
    {
     "data": {
      "text/plain": "       0      1      2     3      4      5      6      7      8      9     10  \\\n16    622    895    895   288    895    895    895    895    895    895   288   \n17   8097   8919   8919  1701   8919   8919   8919   8919   8919   8919  1701   \n18    622    895    895   175    895    895    895    895    895    895   175   \n19  20605  22505  22505  4551  22505  22505  22505  22505  22505  22505  4551   \n20   1896   2215   2215   444   2215   2215   2215   2215   2215   2215   444   \n\n       11  \n16    895  \n17   8919  \n18    895  \n19  22505  \n20   2217  ",
      "text/html": "<div>\n<style scoped>\n    .dataframe tbody tr th:only-of-type {\n        vertical-align: middle;\n    }\n\n    .dataframe tbody tr th {\n        vertical-align: top;\n    }\n\n    .dataframe thead th {\n        text-align: right;\n    }\n</style>\n<table border=\"1\" class=\"dataframe\">\n  <thead>\n    <tr style=\"text-align: right;\">\n      <th></th>\n      <th>0</th>\n      <th>1</th>\n      <th>2</th>\n      <th>3</th>\n      <th>4</th>\n      <th>5</th>\n      <th>6</th>\n      <th>7</th>\n      <th>8</th>\n      <th>9</th>\n      <th>10</th>\n      <th>11</th>\n    </tr>\n  </thead>\n  <tbody>\n    <tr>\n      <th>16</th>\n      <td>622</td>\n      <td>895</td>\n      <td>895</td>\n      <td>288</td>\n      <td>895</td>\n      <td>895</td>\n      <td>895</td>\n      <td>895</td>\n      <td>895</td>\n      <td>895</td>\n      <td>288</td>\n      <td>895</td>\n    </tr>\n    <tr>\n      <th>17</th>\n      <td>8097</td>\n      <td>8919</td>\n      <td>8919</td>\n      <td>1701</td>\n      <td>8919</td>\n      <td>8919</td>\n      <td>8919</td>\n      <td>8919</td>\n      <td>8919</td>\n      <td>8919</td>\n      <td>1701</td>\n      <td>8919</td>\n    </tr>\n    <tr>\n      <th>18</th>\n      <td>622</td>\n      <td>895</td>\n      <td>895</td>\n      <td>175</td>\n      <td>895</td>\n      <td>895</td>\n      <td>895</td>\n      <td>895</td>\n      <td>895</td>\n      <td>895</td>\n      <td>175</td>\n      <td>895</td>\n    </tr>\n    <tr>\n      <th>19</th>\n      <td>20605</td>\n      <td>22505</td>\n      <td>22505</td>\n      <td>4551</td>\n      <td>22505</td>\n      <td>22505</td>\n      <td>22505</td>\n      <td>22505</td>\n      <td>22505</td>\n      <td>22505</td>\n      <td>4551</td>\n      <td>22505</td>\n    </tr>\n    <tr>\n      <th>20</th>\n      <td>1896</td>\n      <td>2215</td>\n      <td>2215</td>\n      <td>444</td>\n      <td>2215</td>\n      <td>2215</td>\n      <td>2215</td>\n      <td>2215</td>\n      <td>2215</td>\n      <td>2215</td>\n      <td>444</td>\n      <td>2217</td>\n    </tr>\n  </tbody>\n</table>\n</div>"
     },
     "execution_count": 46,
     "metadata": {},
     "output_type": "execute_result"
    }
   ],
   "source": [
    "data.tail()"
   ],
   "metadata": {
    "collapsed": false,
    "pycharm": {
     "name": "#%%\n"
    }
   }
  },
  {
   "cell_type": "code",
   "execution_count": 52,
   "outputs": [],
   "source": [
    "def plot_boxplot_hh(df):\n",
    "    # Transpose the DataFrame\n",
    "    # transposed_df = df.T\n",
    "\n",
    "    # Melt the transposed DataFrame into long format\n",
    "    box_names = {0:'DEF', 1:'MAXP', 2:'MAXPW', 3:'MINW', 4:'MARK', 5:'HH_10-90_2', 6:'HH_10-90_4', 7:'HH_50-50_3', 8:'HH_50-50_4', 9:'HH_70-30_4', 10:'HH_70-30_5', 11:'OPTIMUM'}\n",
    "    melted_df = pd.melt(df.reset_index(), id_vars=\"index\", var_name=\"Row\", value_name=\"Value\")\n",
    "    melted_df['Row'] = melted_df['Row'].replace(box_names)\n",
    "\n",
    "    # Plot the boxplots using Seaborn\n",
    "    ax = sns.boxplot(x=\"Row\", y=\"Value\", data=melted_df)\n",
    "    plt.title(\"Condensed results of Heuristics vs Hyper-heuristics\")\n",
    "    plt.xlabel(\"\")\n",
    "    plt.ylabel(\"Profit\")\n",
    "    plt.xticks(rotation=90)\n",
    "\n",
    "    # Add group labels for subsets of boxplots\n",
    "    # group_labels = [(\"Heuristics\", 0, 4), (\"Hyper-heuristics\", 4, 7)]\n",
    "    # for label, start, end in group_labels:\n",
    "    #    plt.text((start + end - 1) / 2, ax.get_ylim()[0] - 0.2 * (ax.get_ylim()[1] - ax.get_ylim()[0]), label, ha=\"center\", va=\"top\")\n",
    "\n",
    "    # Automatically adjust spacing between elements in the plot\n",
    "    # plt.tight_layout()\n",
    "\n",
    "    # Save the figure to your computer\n",
    "    plt.savefig('Results_C.png', dpi=300, bbox_inches='tight')\n",
    "    plt.clf()"
   ],
   "metadata": {
    "collapsed": false,
    "pycharm": {
     "name": "#%%\n"
    }
   }
  },
  {
   "cell_type": "code",
   "execution_count": 53,
   "outputs": [
    {
     "data": {
      "text/plain": "<Figure size 640x480 with 0 Axes>"
     },
     "metadata": {},
     "output_type": "display_data"
    }
   ],
   "source": [
    "plot_boxplot_hh(data)"
   ],
   "metadata": {
    "collapsed": false,
    "pycharm": {
     "name": "#%%\n"
    }
   }
  },
  {
   "cell_type": "code",
   "execution_count": 98,
   "outputs": [],
   "source": [
    "# Load the data\n",
    "df = pd.read_csv('results_DS_0.csv', header=None, index_col=None)\n",
    "\n",
    "# Select the first row\n",
    "row = df.iloc[44, :]\n",
    "\n",
    "# Define some useful variables\n",
    "num_main_cols = 270\n",
    "cols_per_row = 30\n",
    "num_repeat_cols = 5\n",
    "\n",
    "# Split the main columns and the repeat columns\n",
    "main_cols = row[:num_main_cols]\n",
    "repeat_cols = row[num_main_cols:]\n",
    "\n",
    "# Reshape the main columns\n",
    "reshaped_main = main_cols.values.reshape(-1, cols_per_row)\n",
    "\n",
    "# Repeat the repeat columns\n",
    "repeat_cols_repeated = np.repeat(repeat_cols.values, cols_per_row).reshape(-1, cols_per_row)\n",
    "\n",
    "final = np.concatenate([reshaped_main, repeat_cols_repeated], axis=0)\n"
   ],
   "metadata": {
    "collapsed": false,
    "pycharm": {
     "name": "#%%\n"
    }
   }
  },
  {
   "cell_type": "code",
   "execution_count": 99,
   "outputs": [
    {
     "data": {
      "text/plain": "<Figure size 640x480 with 0 Axes>"
     },
     "metadata": {},
     "output_type": "display_data"
    }
   ],
   "source": [
    "instance_name = 'GA-E_50_005'\n",
    "final = pd.DataFrame(final)\n",
    "plot_boxplot(final, instance_name)"
   ],
   "metadata": {
    "collapsed": false,
    "pycharm": {
     "name": "#%%\n"
    }
   }
  },
  {
   "cell_type": "code",
   "execution_count": 82,
   "outputs": [
    {
     "data": {
      "text/plain": "array([[161, 119, 169, 198, 192, 185, 154, 212, 128, 174, 212, 196, 142,\n        187, 196, 196, 153, 178, 141, 212, 177, 150, 192, 192, 185, 165,\n        196, 178, 147, 189],\n       [192, 192, 150, 178, 196, 198, 147, 178, 174, 168, 165, 171, 172,\n        194, 198, 147, 161, 212, 134, 171, 192, 212, 123, 174, 192, 212,\n        145, 196, 192, 196],\n       [132, 174, 165, 196, 147, 196, 212, 212, 147, 196, 173, 196, 141,\n        174, 192, 178, 122, 154, 154, 172, 114, 174, 172, 196, 106, 178,\n        192, 196, 131, 172],\n       [198, 198, 119, 174, 175, 212, 112, 185, 196, 198, 126, 147, 174,\n        196, 165, 154, 196, 212, 150, 165, 189, 198, 147, 145, 188, 212,\n        178, 188, 198, 196],\n       [198, 196, 196, 212, 196, 196, 198, 198, 196, 196, 198, 212, 198,\n        178, 198, 198, 198, 212, 212, 198, 198, 198, 198, 196, 212, 212,\n        198, 212, 196, 196],\n       [198, 196, 198, 198, 212, 198, 198, 198, 196, 198, 212, 212, 196,\n        212, 198, 198, 196, 212, 198, 196, 198, 198, 212, 198, 198, 196,\n        198, 212, 196, 198],\n       [198, 196, 198, 198, 198, 196, 196, 212, 198, 192, 192, 212, 196,\n        196, 212, 212, 212, 198, 198, 196, 196, 212, 198, 212, 196, 198,\n        196, 198, 196, 196],\n       [198, 198, 212, 198, 196, 198, 192, 198, 178, 212, 212, 196, 212,\n        198, 212, 196, 196, 212, 212, 212, 212, 196, 196, 212, 198, 196,\n        198, 198, 212, 212],\n       [212, 212, 192, 212, 196, 196, 196, 196, 212, 198, 198, 196, 196,\n        212, 196, 198, 212, 212, 196, 196, 198, 212, 196, 198, 196, 196,\n        212, 212, 212, 212],\n       [ 84,  84,  84,  84,  84,  84,  84,  84,  84,  84,  84,  84,  84,\n         84,  84,  84,  84,  84,  84,  84,  84,  84,  84,  84,  84,  84,\n         84,  84,  84,  84],\n       [151, 151, 151, 151, 151, 151, 151, 151, 151, 151, 151, 151, 151,\n        151, 151, 151, 151, 151, 151, 151, 151, 151, 151, 151, 151, 151,\n        151, 151, 151, 151],\n       [192, 192, 192, 192, 192, 192, 192, 192, 192, 192, 192, 192, 192,\n        192, 192, 192, 192, 192, 192, 192, 192, 192, 192, 192, 192, 192,\n        192, 192, 192, 192],\n       [212, 212, 212, 212, 212, 212, 212, 212, 212, 212, 212, 212, 212,\n        212, 212, 212, 212, 212, 212, 212, 212, 212, 212, 212, 212, 212,\n        212, 212, 212, 212],\n       [ 58,  58,  58,  58,  58,  58,  58,  58,  58,  58,  58,  58,  58,\n         58,  58,  58,  58,  58,  58,  58,  58,  58,  58,  58,  58,  58,\n         58,  58,  58,  58]], dtype=int64)"
     },
     "execution_count": 82,
     "metadata": {},
     "output_type": "execute_result"
    }
   ],
   "source": [
    "final"
   ],
   "metadata": {
    "collapsed": false,
    "pycharm": {
     "name": "#%%\n"
    }
   }
  },
  {
   "cell_type": "code",
   "execution_count": null,
   "outputs": [],
   "source": [],
   "metadata": {
    "collapsed": false,
    "pycharm": {
     "name": "#%%\n"
    }
   }
  }
 ],
 "metadata": {
  "kernelspec": {
   "display_name": "Python 3",
   "language": "python",
   "name": "python3"
  },
  "language_info": {
   "codemirror_mode": {
    "name": "ipython",
    "version": 2
   },
   "file_extension": ".py",
   "mimetype": "text/x-python",
   "name": "python",
   "nbconvert_exporter": "python",
   "pygments_lexer": "ipython2",
   "version": "2.7.6"
  }
 },
 "nbformat": 4,
 "nbformat_minor": 0
}